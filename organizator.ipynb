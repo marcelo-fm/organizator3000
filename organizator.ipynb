{
 "cells": [
  {
   "cell_type": "code",
   "execution_count": 1,
   "metadata": {},
   "outputs": [],
   "source": [
    "import os, shutil"
   ]
  },
  {
   "cell_type": "code",
   "execution_count": 2,
   "metadata": {},
   "outputs": [
    {
     "name": "stdout",
     "output_type": "stream",
     "text": [
      "c:\\Users\\m_fos\\Documents\\GitHub\\organizator3000\n"
     ]
    }
   ],
   "source": [
    "print(os.getcwd())"
   ]
  },
  {
   "cell_type": "code",
   "execution_count": 4,
   "metadata": {},
   "outputs": [
    {
     "name": "stdout",
     "output_type": "stream",
     "text": [
      "caminho: c:\\Users\\m_fos\\Documents\\GitHub\\organizator3000\n"
     ]
    }
   ],
   "source": [
    "path=os.getcwd()\n",
    "print(\"caminho:\", path)"
   ]
  },
  {
   "cell_type": "code",
   "execution_count": 8,
   "metadata": {},
   "outputs": [
    {
     "name": "stdout",
     "output_type": "stream",
     "text": [
      "['.git', '.gitattributes', 'organizator.ipynb', 'organizator3000.py', 'OrganizatorTeste.txt', 'README.md']\n"
     ]
    }
   ],
   "source": [
    "arquivos = os.listdir(path)\n",
    "print(arquivos)"
   ]
  },
  {
   "cell_type": "code",
   "execution_count": 10,
   "metadata": {},
   "outputs": [
    {
     "name": "stdout",
     "output_type": "stream",
     "text": [
      "6\n"
     ]
    }
   ],
   "source": [
    "print(len(arquivos))\n"
   ]
  },
  {
   "cell_type": "code",
   "execution_count": 12,
   "metadata": {},
   "outputs": [
    {
     "name": "stdout",
     "output_type": "stream",
     "text": [
      ".git -- 0\n",
      ".gitattributes -- 1\n",
      "organizator.ipynb -- 2\n",
      "organizator3000.py -- 3\n",
      "OrganizatorTeste.txt -- 4\n",
      "README.md -- 5\n"
     ]
    }
   ],
   "source": [
    "for i in range(len(arquivos)):\n",
    "    print(arquivos[i], \"--\", i)"
   ]
  },
  {
   "cell_type": "code",
   "execution_count": null,
   "metadata": {},
   "outputs": [],
   "source": []
  }
 ],
 "metadata": {
  "interpreter": {
   "hash": "4e789ad8dc514a7ed0f24b48b0f9baee4c4660a5328bcde4373ca9458448a524"
  },
  "kernelspec": {
   "display_name": "Python 3.9.7 ('base')",
   "language": "python",
   "name": "python3"
  },
  "language_info": {
   "codemirror_mode": {
    "name": "ipython",
    "version": 3
   },
   "file_extension": ".py",
   "mimetype": "text/x-python",
   "name": "python",
   "nbconvert_exporter": "python",
   "pygments_lexer": "ipython3",
   "version": "3.9.7"
  },
  "orig_nbformat": 4
 },
 "nbformat": 4,
 "nbformat_minor": 2
}
