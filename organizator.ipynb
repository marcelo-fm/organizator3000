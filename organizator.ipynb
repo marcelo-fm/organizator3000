{
 "cells": [
  {
   "cell_type": "code",
   "execution_count": 17,
   "metadata": {},
   "outputs": [],
   "source": [
    "import os, shutil"
   ]
  },
  {
   "cell_type": "code",
   "execution_count": 18,
   "metadata": {},
   "outputs": [
    {
     "name": "stdout",
     "output_type": "stream",
     "text": [
      "c:\\Users\\m_fos\\Documents\\GitHub\\organizator3000\n"
     ]
    }
   ],
   "source": [
    "print(os.getcwd())"
   ]
  },
  {
   "cell_type": "code",
   "execution_count": 19,
   "metadata": {},
   "outputs": [
    {
     "name": "stdout",
     "output_type": "stream",
     "text": [
      "caminho: c:\\Users\\m_fos\\Documents\\GitHub\\organizator3000\n"
     ]
    }
   ],
   "source": [
    "path=os.getcwd()\n",
    "print(\"caminho:\", path)"
   ]
  },
  {
   "cell_type": "code",
   "execution_count": 20,
   "metadata": {},
   "outputs": [
    {
     "name": "stdout",
     "output_type": "stream",
     "text": [
      "['.git', '.gitattributes', 'organizator.ipynb', 'organizator3000.py', 'OrganizatorTeste.txt', 'README.md']\n"
     ]
    }
   ],
   "source": [
    "arquivos = os.listdir(path)\n",
    "print(arquivos)"
   ]
  },
  {
   "cell_type": "code",
   "execution_count": 21,
   "metadata": {},
   "outputs": [
    {
     "name": "stdout",
     "output_type": "stream",
     "text": [
      "6\n"
     ]
    }
   ],
   "source": [
    "print(len(arquivos))\n"
   ]
  },
  {
   "cell_type": "code",
   "execution_count": 29,
   "metadata": {},
   "outputs": [
    {
     "name": "stdout",
     "output_type": "stream",
     "text": [
      ".git -- 0\n",
      ".gitattributes -- 1\n",
      "organizator.ipynb -- 2\n",
      "organizator3000.py -- 3\n",
      "OrganizatorTeste.txt -- 4\n",
      "README.md -- 5\n"
     ]
    }
   ],
   "source": [
    "for i in range(len(arquivos)):\n",
    "    print(arquivos[i], \"--\", i)"
   ]
  },
  {
   "cell_type": "code",
   "execution_count": 34,
   "metadata": {},
   "outputs": [
    {
     "name": "stdout",
     "output_type": "stream",
     "text": [
      "['c:\\\\Users\\\\m_fos\\\\Documents\\\\Apresentação SIG.pdf', 'c:\\\\Users\\\\m_fos\\\\Documents\\\\Apresentação SIG.pptx', 'c:\\\\Users\\\\m_fos\\\\Documents\\\\ArcGIS', 'c:\\\\Users\\\\m_fos\\\\Documents\\\\desktop.ini', 'c:\\\\Users\\\\m_fos\\\\Documents\\\\GitHub', 'c:\\\\Users\\\\m_fos\\\\Documents\\\\Git_Workspace', 'c:\\\\Users\\\\m_fos\\\\Documents\\\\Klei', 'c:\\\\Users\\\\m_fos\\\\Documents\\\\League of Legends', 'c:\\\\Users\\\\m_fos\\\\Documents\\\\Meus Vídeos', 'c:\\\\Users\\\\m_fos\\\\Documents\\\\Minhas Imagens', 'c:\\\\Users\\\\m_fos\\\\Documents\\\\Minhas Músicas', 'c:\\\\Users\\\\m_fos\\\\Documents\\\\Modelos Personalizados do Office', 'c:\\\\Users\\\\m_fos\\\\Documents\\\\My Games', 'c:\\\\Users\\\\m_fos\\\\Documents\\\\Saved Games', 'c:\\\\Users\\\\m_fos\\\\Documents\\\\WindowsPowerShell', 'c:\\\\Users\\\\m_fos\\\\Documents\\\\X-Rite']\n"
     ]
    }
   ],
   "source": [
    "arq = os.listdir(\"c:\\\\Users\\\\m_fos\\\\Documents\")\n",
    "\n",
    "arq = [\"c:\\\\Users\\\\m_fos\\\\Documents\\\\\" + s for s in arq]\n",
    "print(arq)"
   ]
  },
  {
   "cell_type": "code",
   "execution_count": 23,
   "metadata": {},
   "outputs": [],
   "source": [
    "def lista_arquivos(path=os.getcwd()):\n",
    "    extensoes = {}\n",
    "    arquivos = os.listdir(path)\n",
    "    folder = []\n",
    "    for i in range(len(arquivos), -1):\n",
    "        if os.path.isdir(arquivos[i]):\n",
    "            folder.append(arquivos[i])\n",
    "            del arquivos[i]\n",
    "    \n",
    "    print(\"arquivos: \", arquivos, \"\\n\", \"folder: \", folder)\n",
    "            "
   ]
  },
  {
   "cell_type": "code",
   "execution_count": null,
   "metadata": {},
   "outputs": [
    {
     "name": "stdout",
     "output_type": "stream",
     "text": [
      "arquivos:  ['Apresentação SIG.pdf', 'Apresentação SIG.pptx', 'ArcGIS', 'desktop.ini', 'GitHub', 'Git_Workspace', 'Klei', 'League of Legends', 'Meus Vídeos', 'Minhas Imagens', 'Minhas Músicas', 'Modelos Personalizados do Office', 'My Games', 'Saved Games', 'WindowsPowerShell', 'X-Rite'] \n",
      " folder:  []\n"
     ]
    }
   ],
   "source": [
    "lista_arquivos(arq)"
   ]
  },
  {
   "cell_type": "code",
   "execution_count": 45,
   "metadata": {},
   "outputs": [
    {
     "name": "stdout",
     "output_type": "stream",
     "text": [
      "arquivos:  ['c:\\\\Users\\\\m_fos\\\\Documents\\\\Apresentação SIG.pdf', 'c:\\\\Users\\\\m_fos\\\\Documents\\\\Apresentação SIG.pptx', 'c:\\\\Users\\\\m_fos\\\\Documents\\\\desktop.ini', 'c:\\\\Users\\\\m_fos\\\\Documents\\\\Modelos Personalizados do Office'] \n",
      " folder:  []\n"
     ]
    }
   ],
   "source": [
    "folder = []\n",
    "for i in range(0, len(arq)-1, 1):\n",
    "    if os.path.isdir(arq[i]):\n",
    "        print(os.path.isdir(arq[i]))\n",
    "        folder.append(arq[i])\n",
    "        del arq[i]\n",
    "\n",
    "print(\"arquivos: \", arq, \"\\n\", \"folder: \", folder)\n",
    "\n",
    "#os.path.isdir(arq[6])"
   ]
  },
  {
   "cell_type": "code",
   "execution_count": null,
   "metadata": {},
   "outputs": [],
   "source": []
  }
 ],
 "metadata": {
  "interpreter": {
   "hash": "4e789ad8dc514a7ed0f24b48b0f9baee4c4660a5328bcde4373ca9458448a524"
  },
  "kernelspec": {
   "display_name": "Python 3.9.7 ('base')",
   "language": "python",
   "name": "python3"
  },
  "language_info": {
   "codemirror_mode": {
    "name": "ipython",
    "version": 3
   },
   "file_extension": ".py",
   "mimetype": "text/x-python",
   "name": "python",
   "nbconvert_exporter": "python",
   "pygments_lexer": "ipython3",
   "version": "3.9.7"
  },
  "orig_nbformat": 4
 },
 "nbformat": 4,
 "nbformat_minor": 2
}
